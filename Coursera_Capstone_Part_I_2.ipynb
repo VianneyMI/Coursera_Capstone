{
 "cells": [
  {
   "cell_type": "markdown",
   "metadata": {},
   "source": [
    "<a href=\"https://github.com/VianneyMI/Coursera_Capstone\"><img src = \"github.png\" width = 200, height=200, align = \"center\"></a>\n",
    "<h1 align=center><font size = 6>Capstone Notebook</font></h1>"
   ]
  },
  {
   "cell_type": "markdown",
   "metadata": {},
   "source": [
    "This notebook will be mainly used for the capstone project of the IBM Data Science Professional Certfificate"
   ]
  },
  {
   "cell_type": "code",
   "execution_count": 4,
   "metadata": {},
   "outputs": [],
   "source": [
    "import pandas as pd\n",
    "import numpy as np"
   ]
  },
  {
   "cell_type": "code",
   "execution_count": 6,
   "metadata": {},
   "outputs": [
    {
     "name": "stdout",
     "output_type": "stream",
     "text": [
      "Hello Captsone Project Course\n"
     ]
    }
   ],
   "source": [
    "print(\"Hello Captsone Project Course\")"
   ]
  },
  {
   "cell_type": "markdown",
   "metadata": {},
   "source": [
    "# Introduction"
   ]
  },
  {
   "cell_type": "markdown",
   "metadata": {},
   "source": [
    "France is divided into 18 regions : 12 in mainland France and 6 elsewhere (1 in Europe ( Corsica), 2 in the Caribbean, 1 in South America, and 2 near Africa. We usually talk about Metropolitan France (mainland France + Corsica) and Oversea France (France d'Outre-Mer).\n",
    "Following the 2016 reform, France is divided as follows :\n",
    "* 13 Metropolitan regions, including Corsica\n",
    "* 5 Overseeas regions\n",
    "* 96 departments (Each region is subdivided in one or more department)\n",
    "* and further subdivisions that we will not talk about here\n",
    "\n",
    "Check this <a href=https://en.wikipedia.org/wiki/Administrative_divisions_of_France#Types_of_division> Wikipedia page </a> for more information.\n",
    "\n",
    "This what the map of the regions looks like :\n",
    "\n",
    "<img src=\"france_region_map.jpg\" width= 600, height=800, align=\"center\"></a>\n",
    "\n"
   ]
  },
  {
   "cell_type": "markdown",
   "metadata": {},
   "source": [
    "# Problem Statement"
   ]
  },
  {
   "cell_type": "markdown",
   "metadata": {},
   "source": [
    "Each region claims some more or less strongly identity traits. The goal of this project would be to explore if by clustering the France cities **we are able to reproduce France regional division**.That is find if we can characterize the regions with common \"features\" found in the cities that make up the region."
   ]
  },
  {
   "cell_type": "markdown",
   "metadata": {},
   "source": [
    "# Data"
   ]
  },
  {
   "cell_type": "markdown",
   "metadata": {},
   "source": [
    "In order to solve this problem we will use the list of french cities <a href=\"https://sql.sh/736-base-donnees-villes-francaises\"> here </a> as well as climatic data from the <a href=\"https://openweathermap.org/api/statistics-api\"> openweather api.</a>\n",
    "Finally as required, we will use data from the Foursquare API to further categorize our cities.\n",
    "\n",
    "## Cities data \n",
    "\n",
    "The cities data have been exported from the website into a csv file that can be found in the Data folder of the repository of this project. Note that the CSV has no headers.\n",
    "You can find a description of the columns at the original website but find below a summary of what the database contains.\n",
    "\n",
    "* Various versions of the name of the cities\n",
    "* Coordinates of teach city (so precious to call the Foursquare API)\n",
    "* Population data (will certainly be very useful as well)\n",
    "* Other geographical data (min and max altitudes, area)\n",
    "* Department number (it would be interesting to check if the algorithm learn and find the relationship between regions and departments)\n",
    "\n",
    "## Openweather data \n",
    "\n",
    "The openweather API can be called similarly than Foursquare or any other API. It will be called directly in the notebook. \n",
    "From this API, based on coordinates, we can get annual values such as minimum recorded, maximum recorded, average minimum, average maximum for the following climatic features :\n",
    "\n",
    "* Temperature\n",
    "* Pressure\n",
    "* Humidity\n",
    "* Wind\n",
    "* Precipitation\n",
    "* Clouds\n",
    "\n",
    "## Foursquare data \n",
    "\n",
    "Well, check out the videos of second week of the Applied Coursera Captsone Course. If you access this notebook from outside this course please check the <a href=\"https://developer.foursquare.com\"> developer.foursquare.com</a>  website.\n",
    "In a nutshell, with this API you can get the following.\n",
    "\n",
    "* What are the most popular venues are there in a given city\n",
    "* How many of those do you have \n",
    "* How many tips (recommendations, opinions from visitors) those venues received"
   ]
  },
  {
   "cell_type": "code",
   "execution_count": null,
   "metadata": {},
   "outputs": [],
   "source": []
  }
 ],
 "metadata": {
  "kernelspec": {
   "display_name": "Python 3",
   "language": "python",
   "name": "python3"
  },
  "language_info": {
   "codemirror_mode": {
    "name": "ipython",
    "version": 3
   },
   "file_extension": ".py",
   "mimetype": "text/x-python",
   "name": "python",
   "nbconvert_exporter": "python",
   "pygments_lexer": "ipython3",
   "version": "3.7.4"
  }
 },
 "nbformat": 4,
 "nbformat_minor": 4
}
