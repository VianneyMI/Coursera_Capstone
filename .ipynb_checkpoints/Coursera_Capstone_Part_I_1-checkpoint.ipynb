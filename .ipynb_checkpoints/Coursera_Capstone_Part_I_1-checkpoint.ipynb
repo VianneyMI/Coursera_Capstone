{
 "cells": [
  {
   "cell_type": "markdown",
   "metadata": {},
   "source": [
    "<a href=\"https://github.com/VianneyMI/Coursera_Capstone\"><img src = \"github.png\" width = 200, height=200, align = \"center\"></a>\n",
    "<h1 align=center><font size = 6>Capstone Notebook</font></h1>"
   ]
  },
  {
   "cell_type": "markdown",
   "metadata": {},
   "source": [
    "This notebook will be mainly used for the capstone project of the IBM Data Science Professional Certfificate"
   ]
  },
  {
   "cell_type": "code",
   "execution_count": 4,
   "metadata": {},
   "outputs": [],
   "source": [
    "import pandas as pd\n",
    "import numpy as np"
   ]
  },
  {
   "cell_type": "code",
   "execution_count": 6,
   "metadata": {},
   "outputs": [
    {
     "name": "stdout",
     "output_type": "stream",
     "text": [
      "Hello Captsone Project Course\n"
     ]
    }
   ],
   "source": [
    "print(\"Hello Captsone Project Course\")"
   ]
  },
  {
   "cell_type": "markdown",
   "metadata": {},
   "source": [
    "# Introduction"
   ]
  },
  {
   "cell_type": "markdown",
   "metadata": {},
   "source": [
    "France is divided into 18 regions : 12 in mainland France and 6 elsewhere (1 in Europe ( Corsica), 2 in the Caribbean, 1 in South America, and 2 near Africa. We usually talk about Metropolitan France (mainland France + Corsica) and Oversea France (France d'Outre-Mer).\n",
    "Following the 2016 reform, France is divided as follows :\n",
    "* 13 Metropolitan regions, including Corsica\n",
    "* 5 Overseeas regions\n",
    "* 96 departments (Each region is subdivided in one or more department)\n",
    "* and further subdivisions that we will not talk about here\n",
    "\n",
    "Check this <a href=https://en.wikipedia.org/wiki/Administrative_divisions_of_France#Types_of_division> Wikipedia page </a> for more information.\n",
    "\n",
    "This what the map of the regions looks like :\n",
    "\n",
    "<img src=\"france_region_map.jpg\">"
   ]
  }
 ],
 "metadata": {
  "kernelspec": {
   "display_name": "Python 3",
   "language": "python",
   "name": "python3"
  },
  "language_info": {
   "codemirror_mode": {
    "name": "ipython",
    "version": 3
   },
   "file_extension": ".py",
   "mimetype": "text/x-python",
   "name": "python",
   "nbconvert_exporter": "python",
   "pygments_lexer": "ipython3",
   "version": "3.7.4"
  }
 },
 "nbformat": 4,
 "nbformat_minor": 4
}
